{
 "cells": [
  {
   "cell_type": "code",
   "execution_count": 5,
   "metadata": {},
   "outputs": [],
   "source": [
    "import pandas as pd\n",
    "import os\n",
    "from gensim.models.doc2vec import Doc2Vec, TaggedDocument"
   ]
  },
  {
   "cell_type": "code",
   "execution_count": 8,
   "metadata": {
    "pycharm": {
     "name": "#%%\n"
    }
   },
   "outputs": [],
   "source": [
    "DATA_FOLDER = os.path.join(os.path.dirname(os.path.realpath(__name__)), '../../' + 'data/')\n",
    "df = pd.read_csv(DATA_FOLDER+'preprocessed_data/preprocessed_data.csv')\n",
    "#df = df[~df['page_content'].isna()]\n",
    "df['page_content'] = df['page_content'].str.split(\" \")\n",
    "documents = [TaggedDocument(doc, [i]) for i, doc in enumerate(df['page_content'])]"
   ]
  },
  {
   "cell_type": "code",
   "execution_count": 9,
   "metadata": {},
   "outputs": [
    {
     "data": {
      "text/html": [
       "<div>\n",
       "<style scoped>\n",
       "    .dataframe tbody tr th:only-of-type {\n",
       "        vertical-align: middle;\n",
       "    }\n",
       "\n",
       "    .dataframe tbody tr th {\n",
       "        vertical-align: top;\n",
       "    }\n",
       "\n",
       "    .dataframe thead th {\n",
       "        text-align: right;\n",
       "    }\n",
       "</style>\n",
       "<table border=\"1\" class=\"dataframe\">\n",
       "  <thead>\n",
       "    <tr style=\"text-align: right;\">\n",
       "      <th></th>\n",
       "      <th>page_content</th>\n",
       "      <th>url</th>\n",
       "    </tr>\n",
       "  </thead>\n",
       "  <tbody>\n",
       "    <tr>\n",
       "      <th>0</th>\n",
       "      <td>[wyjątkowy, wydarzyć, poroda, bliźniaczy, słoń...</td>\n",
       "      <td>https://www.ekologia.pl/wiadomosci/srodowisko/...</td>\n",
       "    </tr>\n",
       "    <tr>\n",
       "      <th>1</th>\n",
       "      <td>[morze, ląd, atmosfera, system, ziemia, zaniec...</td>\n",
       "      <td>https://www.ekologia.pl/wiadomosci/srodowisko/...</td>\n",
       "    </tr>\n",
       "    <tr>\n",
       "      <th>2</th>\n",
       "      <td>[mały, emisja, gaz, cieplarniany, niski, utrat...</td>\n",
       "      <td>https://www.ekologia.pl/wiadomosci/srodowisko/...</td>\n",
       "    </tr>\n",
       "    <tr>\n",
       "      <th>3</th>\n",
       "      <td>[naukowiec, bić, alarm, ostrzegać, poważny, sp...</td>\n",
       "      <td>https://www.ekologia.pl/wiadomosci/srodowisko/...</td>\n",
       "    </tr>\n",
       "    <tr>\n",
       "      <th>4</th>\n",
       "      <td>[królestwo, Tonga, nieczęsto, przyciągać, uwag...</td>\n",
       "      <td>https://www.ekologia.pl/wiadomosci/srodowisko/...</td>\n",
       "    </tr>\n",
       "    <tr>\n",
       "      <th>...</th>\n",
       "      <td>...</td>\n",
       "      <td>...</td>\n",
       "    </tr>\n",
       "    <tr>\n",
       "      <th>7895</th>\n",
       "      <td>[znajdować, miejsce, apetyt, ludzkość, zasoby,...</td>\n",
       "      <td>https://ziemianarozdrozu.pl/kronika-rozdroza-2...</td>\n",
       "    </tr>\n",
       "    <tr>\n",
       "      <th>7896</th>\n",
       "      <td>[ocieplić, klimat, poważnie, zmniejszyć, zasob...</td>\n",
       "      <td>https://ziemianarozdrozu.pl/kronika-rozdroza-2...</td>\n",
       "    </tr>\n",
       "    <tr>\n",
       "      <th>7897</th>\n",
       "      <td>[okazować, kluczowy, sukces, uruchomić, fundus...</td>\n",
       "      <td>https://ziemianarozdrozu.pl/wynik-negocjacji-k...</td>\n",
       "    </tr>\n",
       "    <tr>\n",
       "      <th>7898</th>\n",
       "      <td>[długi, negocjacja, przeciąganie, lin, szczyt,...</td>\n",
       "      <td>https://ziemianarozdrozu.pl/pakiet-klimatyczno...</td>\n",
       "    </tr>\n",
       "    <tr>\n",
       "      <th>7899</th>\n",
       "      <td>[encyklopedia, zmiana, klimaturozdrożeoil, pea...</td>\n",
       "      <td>https://ziemianarozdrozu.pl/ziemia-na-rozdrozu</td>\n",
       "    </tr>\n",
       "  </tbody>\n",
       "</table>\n",
       "<p>7900 rows × 2 columns</p>\n",
       "</div>"
      ],
      "text/plain": [
       "                                           page_content  \\\n",
       "0     [wyjątkowy, wydarzyć, poroda, bliźniaczy, słoń...   \n",
       "1     [morze, ląd, atmosfera, system, ziemia, zaniec...   \n",
       "2     [mały, emisja, gaz, cieplarniany, niski, utrat...   \n",
       "3     [naukowiec, bić, alarm, ostrzegać, poważny, sp...   \n",
       "4     [królestwo, Tonga, nieczęsto, przyciągać, uwag...   \n",
       "...                                                 ...   \n",
       "7895  [znajdować, miejsce, apetyt, ludzkość, zasoby,...   \n",
       "7896  [ocieplić, klimat, poważnie, zmniejszyć, zasob...   \n",
       "7897  [okazować, kluczowy, sukces, uruchomić, fundus...   \n",
       "7898  [długi, negocjacja, przeciąganie, lin, szczyt,...   \n",
       "7899  [encyklopedia, zmiana, klimaturozdrożeoil, pea...   \n",
       "\n",
       "                                                    url  \n",
       "0     https://www.ekologia.pl/wiadomosci/srodowisko/...  \n",
       "1     https://www.ekologia.pl/wiadomosci/srodowisko/...  \n",
       "2     https://www.ekologia.pl/wiadomosci/srodowisko/...  \n",
       "3     https://www.ekologia.pl/wiadomosci/srodowisko/...  \n",
       "4     https://www.ekologia.pl/wiadomosci/srodowisko/...  \n",
       "...                                                 ...  \n",
       "7895  https://ziemianarozdrozu.pl/kronika-rozdroza-2...  \n",
       "7896  https://ziemianarozdrozu.pl/kronika-rozdroza-2...  \n",
       "7897  https://ziemianarozdrozu.pl/wynik-negocjacji-k...  \n",
       "7898  https://ziemianarozdrozu.pl/pakiet-klimatyczno...  \n",
       "7899     https://ziemianarozdrozu.pl/ziemia-na-rozdrozu  \n",
       "\n",
       "[7900 rows x 2 columns]"
      ]
     },
     "execution_count": 9,
     "metadata": {},
     "output_type": "execute_result"
    }
   ],
   "source": [
    "df"
   ]
  },
  {
   "cell_type": "code",
   "execution_count": null,
   "metadata": {},
   "outputs": [],
   "source": []
  }
 ],
 "metadata": {
  "kernelspec": {
   "display_name": "Python 3 (ipykernel)",
   "language": "python",
   "name": "python3"
  },
  "language_info": {
   "codemirror_mode": {
    "name": "ipython",
    "version": 3
   },
   "file_extension": ".py",
   "mimetype": "text/x-python",
   "name": "python",
   "nbconvert_exporter": "python",
   "pygments_lexer": "ipython3",
   "version": "3.10.0"
  }
 },
 "nbformat": 4,
 "nbformat_minor": 1
}
